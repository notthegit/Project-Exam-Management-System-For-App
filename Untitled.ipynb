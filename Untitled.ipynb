{
 "cells": [
  {
   "cell_type": "code",
   "execution_count": 1,
   "metadata": {},
   "outputs": [
    {
     "ename": "SyntaxError",
     "evalue": "Missing parentheses in call to 'print'. Did you mean print(print 'Building Damon object...\\n')? (core.py, line 1452)",
     "output_type": "error",
     "traceback": [
      "Traceback \u001b[1;36m(most recent call last)\u001b[0m:\n",
      "  File \u001b[0;32m\"c:\\program files\\python36\\lib\\site-packages\\IPython\\core\\interactiveshell.py\"\u001b[0m, line \u001b[0;32m2910\u001b[0m, in \u001b[0;35mrun_code\u001b[0m\n    exec(code_obj, self.user_global_ns, self.user_ns)\n",
      "  File \u001b[0;32m\"<ipython-input-1-073d5f43eac6>\"\u001b[0m, line \u001b[0;32m1\u001b[0m, in \u001b[0;35m<module>\u001b[0m\n    import damon1.core as dmn\n",
      "\u001b[1;36m  File \u001b[1;32m\"c:\\program files\\python36\\lib\\site-packages\\damon1\\__init__.py\"\u001b[1;36m, line \u001b[1;32m381\u001b[1;36m, in \u001b[1;35m<module>\u001b[1;36m\u001b[0m\n\u001b[1;33m    import damon1.core as core\u001b[0m\n",
      "\u001b[1;36m  File \u001b[1;32m\"c:\\program files\\python36\\lib\\site-packages\\damon1\\core.py\"\u001b[1;36m, line \u001b[1;32m1452\u001b[0m\n\u001b[1;33m    print 'Building Damon object...\\n'\u001b[0m\n\u001b[1;37m                                     ^\u001b[0m\n\u001b[1;31mSyntaxError\u001b[0m\u001b[1;31m:\u001b[0m Missing parentheses in call to 'print'. Did you mean print(print 'Building Damon object...\\n')?\n"
     ]
    }
   ],
   "source": [
    "import damon1.core as dmn\n",
    "import damon1.tools as dmnt"
   ]
  },
  {
   "cell_type": "code",
   "execution_count": 2,
   "metadata": {},
   "outputs": [
    {
     "ename": "SyntaxError",
     "evalue": "Missing parentheses in call to 'print'. Did you mean print(print 'Building Damon object...\\n')? (core.py, line 1452)",
     "output_type": "error",
     "traceback": [
      "Traceback \u001b[1;36m(most recent call last)\u001b[0m:\n",
      "  File \u001b[0;32m\"c:\\program files\\python36\\lib\\site-packages\\IPython\\core\\interactiveshell.py\"\u001b[0m, line \u001b[0;32m2910\u001b[0m, in \u001b[0;35mrun_code\u001b[0m\n    exec(code_obj, self.user_global_ns, self.user_ns)\n",
      "  File \u001b[0;32m\"<ipython-input-2-944d5af6b792>\"\u001b[0m, line \u001b[0;32m1\u001b[0m, in \u001b[0;35m<module>\u001b[0m\n    import damon1.core as dmn\n",
      "\u001b[1;36m  File \u001b[1;32m\"c:\\program files\\python36\\lib\\site-packages\\damon1\\__init__.py\"\u001b[1;36m, line \u001b[1;32m381\u001b[1;36m, in \u001b[1;35m<module>\u001b[1;36m\u001b[0m\n\u001b[1;33m    import damon1.core as core\u001b[0m\n",
      "\u001b[1;36m  File \u001b[1;32m\"c:\\program files\\python36\\lib\\site-packages\\damon1\\core.py\"\u001b[1;36m, line \u001b[1;32m1452\u001b[0m\n\u001b[1;33m    print 'Building Damon object...\\n'\u001b[0m\n\u001b[1;37m                                     ^\u001b[0m\n\u001b[1;31mSyntaxError\u001b[0m\u001b[1;31m:\u001b[0m Missing parentheses in call to 'print'. Did you mean print(print 'Building Damon object...\\n')?\n"
     ]
    }
   ],
   "source": [
    "import damon1.core as dmn"
   ]
  },
  {
   "cell_type": "code",
   "execution_count": 3,
   "metadata": {},
   "outputs": [
    {
     "ename": "SyntaxError",
     "evalue": "Missing parentheses in call to 'print'. Did you mean print(print 'Building Damon object...\\n')? (core.py, line 1452)",
     "output_type": "error",
     "traceback": [
      "Traceback \u001b[1;36m(most recent call last)\u001b[0m:\n",
      "  File \u001b[0;32m\"c:\\program files\\python36\\lib\\site-packages\\IPython\\core\\interactiveshell.py\"\u001b[0m, line \u001b[0;32m2910\u001b[0m, in \u001b[0;35mrun_code\u001b[0m\n    exec(code_obj, self.user_global_ns, self.user_ns)\n",
      "  File \u001b[0;32m\"<ipython-input-3-e03e76aa693c>\"\u001b[0m, line \u001b[0;32m1\u001b[0m, in \u001b[0;35m<module>\u001b[0m\n    import damon1.tools as dmnt\n",
      "\u001b[1;36m  File \u001b[1;32m\"c:\\program files\\python36\\lib\\site-packages\\damon1\\__init__.py\"\u001b[1;36m, line \u001b[1;32m381\u001b[1;36m, in \u001b[1;35m<module>\u001b[1;36m\u001b[0m\n\u001b[1;33m    import damon1.core as core\u001b[0m\n",
      "\u001b[1;36m  File \u001b[1;32m\"c:\\program files\\python36\\lib\\site-packages\\damon1\\core.py\"\u001b[1;36m, line \u001b[1;32m1452\u001b[0m\n\u001b[1;33m    print 'Building Damon object...\\n'\u001b[0m\n\u001b[1;37m                                     ^\u001b[0m\n\u001b[1;31mSyntaxError\u001b[0m\u001b[1;31m:\u001b[0m Missing parentheses in call to 'print'. Did you mean print(print 'Building Damon object...\\n')?\n"
     ]
    }
   ],
   "source": [
    "import damon1.tools as dmnt"
   ]
  },
  {
   "cell_type": "code",
   "execution_count": null,
   "metadata": {},
   "outputs": [],
   "source": []
  }
 ],
 "metadata": {
  "kernelspec": {
   "display_name": "Python 3",
   "language": "python",
   "name": "python3"
  },
  "language_info": {
   "codemirror_mode": {
    "name": "ipython",
    "version": 3
   },
   "file_extension": ".py",
   "mimetype": "text/x-python",
   "name": "python",
   "nbconvert_exporter": "python",
   "pygments_lexer": "ipython3",
   "version": "3.6.4"
  }
 },
 "nbformat": 4,
 "nbformat_minor": 2
}
